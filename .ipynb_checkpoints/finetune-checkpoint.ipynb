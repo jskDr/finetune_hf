{
 "cells": [
  {
   "cell_type": "markdown",
   "id": "931dac11",
   "metadata": {},
   "source": [
    "# Data load"
   ]
  },
  {
   "cell_type": "markdown",
   "id": "63710257",
   "metadata": {},
   "source": [
    "## Scitail"
   ]
  },
  {
   "cell_type": "code",
   "execution_count": 2,
   "id": "358b3c3c",
   "metadata": {},
   "outputs": [
    {
     "name": "stderr",
     "output_type": "stream",
     "text": [
      "/usr/local/lib/python3.10/dist-packages/tqdm/auto.py:21: TqdmWarning: IProgress not found. Please update jupyter and ipywidgets. See https://ipywidgets.readthedocs.io/en/stable/user_install.html\n",
      "  from .autonotebook import tqdm as notebook_tqdm\n",
      "Downloading readme: 100%|██████████| 10.1k/10.1k [00:00<00:00, 36.6MB/s]\n",
      "Downloading data: 100%|██████████| 1.57M/1.57M [00:01<00:00, 1.51MB/s]\n",
      "Downloading data: 100%|██████████| 162k/162k [00:00<00:00, 219kB/s]\n",
      "Downloading data: 100%|██████████| 99.8k/99.8k [00:00<00:00, 150kB/s]\n",
      "Generating train split: 100%|██████████| 23097/23097 [00:00<00:00, 744551.58 examples/s]\n",
      "Generating test split: 100%|██████████| 2126/2126 [00:00<00:00, 588237.37 examples/s]\n",
      "Generating validation split: 100%|██████████| 1304/1304 [00:00<00:00, 501317.36 examples/s]"
     ]
    },
    {
     "name": "stdout",
     "output_type": "stream",
     "text": [
      "{'premise': 'Pluto rotates once on its axis every 6.39 Earth days;', 'hypothesis': 'Earth rotates on its axis once times in one day.', 'label': 'neutral'}\n",
      "{'premise': 'An introduction to atoms and elements, compounds, atomic structure and bonding, the molecule and chemical reactions.', 'hypothesis': 'Replace another in a molecule happens to atoms during a substitution reaction.', 'label': 'neutral'}\n"
     ]
    },
    {
     "name": "stderr",
     "output_type": "stream",
     "text": [
      "\n"
     ]
    }
   ],
   "source": [
    "from datasets import load_dataset\n",
    "\n",
    "# Load the SciTail dataset\n",
    "scitail_dataset = load_dataset(\"scitail\", \"tsv_format\")\n",
    "\n",
    "# Accessing the train and validation sets\n",
    "train_set = scitail_dataset['train']\n",
    "validation_set = scitail_dataset['validation']\n",
    "\n",
    "# Print some examples to see the data\n",
    "print(train_set[0])\n",
    "print(validation_set[0])"
   ]
  },
  {
   "cell_type": "markdown",
   "id": "a9887a1d",
   "metadata": {},
   "source": [
    "## ARC"
   ]
  },
  {
   "cell_type": "code",
   "execution_count": 2,
   "id": "23938685",
   "metadata": {},
   "outputs": [
    {
     "name": "stderr",
     "output_type": "stream",
     "text": [
      "/usr/local/lib/python3.10/dist-packages/tqdm/auto.py:21: TqdmWarning: IProgress not found. Please update jupyter and ipywidgets. See https://ipywidgets.readthedocs.io/en/stable/user_install.html\n",
      "  from .autonotebook import tqdm as notebook_tqdm\n"
     ]
    },
    {
     "name": "stdout",
     "output_type": "stream",
     "text": [
      "{'id': 'Mercury_SC_415702', 'question': 'George wants to warm his hands quickly by rubbing them. Which skin surface will produce the most heat?', 'choices': {'text': ['dry palms', 'wet palms', 'palms covered with oil', 'palms covered with lotion'], 'label': ['A', 'B', 'C', 'D']}, 'answerKey': 'A'}\n",
      "{'id': 'Mercury_SC_407695', 'question': 'Juan and LaKeisha roll a few objects down a ramp. They want to see which object rolls the farthest. What should they do so they can repeat their investigation?', 'choices': {'text': ['Put the objects in groups.', 'Change the height of the ramp.', 'Choose different objects to roll.', 'Record the details of the investigation.'], 'label': ['A', 'B', 'C', 'D']}, 'answerKey': 'D'}\n",
      "{'id': 'Mercury_7175875', 'question': 'An astronomer observes that a planet rotates faster after a meteorite impact. Which is the most likely effect of this increase in rotation?', 'choices': {'text': ['Planetary density will decrease.', 'Planetary years will become longer.', 'Planetary days will become shorter.', 'Planetary gravity will become stronger.'], 'label': ['A', 'B', 'C', 'D']}, 'answerKey': 'C'}\n"
     ]
    }
   ],
   "source": [
    "from datasets import load_dataset\n",
    "\n",
    "# Load the ARC dataset\n",
    "arc_dataset = load_dataset(\"ai2_arc\", \"ARC-Challenge\")\n",
    "\n",
    "# Accessing the different splits\n",
    "train_set = arc_dataset['train']\n",
    "validation_set = arc_dataset['validation']\n",
    "test_set = arc_dataset['test']\n",
    "\n",
    "# Print some examples to see the data\n",
    "print(train_set[0])\n",
    "print(validation_set[0])\n",
    "print(test_set[0])"
   ]
  },
  {
   "cell_type": "markdown",
   "id": "7d9d29b6",
   "metadata": {},
   "source": [
    "### Convert to ChatGPT style"
   ]
  },
  {
   "cell_type": "code",
   "execution_count": 3,
   "id": "96446e83",
   "metadata": {},
   "outputs": [
    {
     "name": "stdout",
     "output_type": "stream",
     "text": [
      "Q: George wants to warm his hands quickly by rubbing them. Which skin surface will produce the most heat?\n",
      "A) dry palms\n",
      "B) wet palms\n",
      "C) palms covered with oil\n",
      "D) palms covered with lotion\n",
      "\n"
     ]
    }
   ],
   "source": [
    "def format_arc_data(item):\n",
    "    # Formatting the question\n",
    "    question = f\"Q: {item['question']}\\n\"\n",
    "    \n",
    "    # Formatting each choice\n",
    "    choices = ''\n",
    "    for idx, choice in enumerate(item['choices']['text']):\n",
    "        choices += f\"{chr(65 + idx)}) {choice}\\n\"\n",
    "    \n",
    "    # Combine question and choices\n",
    "    return question + choices\n",
    "\n",
    "# Example usage\n",
    "formatted_example = format_arc_data(arc_dataset['train'][0])\n",
    "print(formatted_example)"
   ]
  },
  {
   "cell_type": "code",
   "execution_count": 4,
   "id": "72fd4a5e",
   "metadata": {},
   "outputs": [
    {
     "name": "stdout",
     "output_type": "stream",
     "text": [
      "API key is not set.\n"
     ]
    }
   ],
   "source": [
    "import os\n",
    "\n",
    "# Fetch the API key from the environment variables\n",
    "api_key = os.getenv('OPENAI_API_KEY')\n",
    "\n",
    "# Check if the API key is fetched successfully\n",
    "if api_key is None:\n",
    "    print(\"API key is not set.\")\n",
    "else:\n",
    "    print(\"API key is successfully retrieved.\")\n",
    "\n",
    "# Now you can use `api_key` wherever needed"
   ]
  },
  {
   "cell_type": "code",
   "execution_count": 5,
   "id": "bce0f3c1",
   "metadata": {},
   "outputs": [
    {
     "name": "stdout",
     "output_type": "stream",
     "text": [
      "declare -x BASH_ENV=\"/etc/bash.bashrc\"\n",
      "declare -x CLICOLOR=\"1\"\n",
      "declare -x CLICOLOR_FORCE=\"1\"\n",
      "declare -x COCOAPI_VERSION=\"2.0+nv0.7.3\"\n",
      "declare -x CUBLAS_VERSION=\"12.2.5.6\"\n",
      "declare -x CUDA_CACHE_DISABLE=\"1\"\n",
      "declare -x CUDA_DRIVER_VERSION=\"535.104.05\"\n",
      "declare -x CUDA_HOME=\"/usr/local/cuda\"\n",
      "declare -x CUDA_MODULE_LOADING=\"LAZY\"\n",
      "declare -x CUDA_VERSION=\"12.2.2.009\"\n",
      "declare -x CUDNN_VERSION=\"8.9.5.29\"\n",
      "declare -x CUFFT_VERSION=\"11.0.8.103\"\n",
      "declare -x CURAND_VERSION=\"10.3.3.141\"\n",
      "declare -x CURL_DETECTED=\"true\"\n",
      "declare -x CUSOLVER_VERSION=\"11.5.2.141\"\n",
      "declare -x CUSPARSE_VERSION=\"12.1.2.141\"\n",
      "declare -x CUTENSOR_VERSION=\"1.7.0.1\"\n",
      "declare -x DALI_BUILD=\"9783408\"\n",
      "declare -x DALI_VERSION=\"1.30.0\"\n",
      "declare -x ENV=\"/etc/shinit_v2\"\n",
      "declare -x FORCE_COLOR=\"1\"\n",
      "declare -x GDRCOPY_VERSION=\"2.3\"\n",
      "declare -x GIT_PAGER=\"cat\"\n",
      "declare -x HOME=\"/root\"\n",
      "declare -x HOSTNAME=\"run-execution-ol1ch1j52ile-0\"\n",
      "declare -x HPCX_VERSION=\"2.16rc4\"\n",
      "declare -x JPY_PARENT_PID=\"231\"\n",
      "declare -x JUPYTER_PORT=\"8888\"\n",
      "declare -x KUBERNETES_PORT=\"tcp://10.162.192.1:443\"\n",
      "declare -x KUBERNETES_PORT_443_TCP=\"tcp://10.162.192.1:443\"\n",
      "declare -x KUBERNETES_PORT_443_TCP_ADDR=\"10.162.192.1\"\n",
      "declare -x KUBERNETES_PORT_443_TCP_PORT=\"443\"\n",
      "declare -x KUBERNETES_PORT_443_TCP_PROTO=\"tcp\"\n",
      "declare -x KUBERNETES_SERVICE_HOST=\"10.162.192.1\"\n",
      "declare -x KUBERNETES_SERVICE_PORT=\"443\"\n",
      "declare -x KUBERNETES_SERVICE_PORT_HTTPS=\"443\"\n",
      "declare -x LANG=\"C.UTF-8\"\n",
      "declare -x LC_ALL=\"C.UTF-8\"\n",
      "declare -x LD_LIBRARY_PATH=\"/usr/local/cuda/compat/lib.real:/usr/local/lib/python3.10/dist-packages/torch/lib:/usr/local/lib/python3.10/dist-packages/torch_tensorrt/lib:/usr/local/cuda/compat/lib:/usr/local/nvidia/lib:/usr/local/nvidia/lib64\"\n",
      "declare -x LIBRARY_PATH=\"/usr/local/cuda/lib64/stubs:\"\n",
      "declare -x MOFED_VERSION=\"5.4-rdmacore39.0\"\n",
      "declare -x MPLBACKEND=\"module://matplotlib_inline.backend_inline\"\n",
      "declare -x NCCL_VERSION=\"2.19.3\"\n",
      "declare -x NPP_VERSION=\"12.2.1.4\"\n",
      "declare -x NSIGHT_COMPUTE_VERSION=\"2023.2.2.3\"\n",
      "declare -x NSIGHT_SYSTEMS_VERSION=\"2023.3.1.92\"\n",
      "declare -x NVIDIA_BUILD_ID=\"71422337\"\n",
      "declare -x NVIDIA_DRIVER_CAPABILITIES=\"compute,utility,video\"\n",
      "declare -x NVIDIA_PRODUCT_NAME=\"PyTorch\"\n",
      "declare -x NVIDIA_PYTORCH_VERSION=\"23.10\"\n",
      "declare -x NVIDIA_REQUIRE_CUDA=\"cuda>=9.0\"\n",
      "declare -x NVIDIA_REQUIRE_JETPACK_HOST_MOUNTS=\"\"\n",
      "declare -x NVIDIA_VISIBLE_DEVICES=\"GPU-0cbdcaa6-ded6-41ac-4c38-4e6f57c5a6b6\"\n",
      "declare -x NVJPEG_VERSION=\"12.2.2.4\"\n",
      "declare -x NVM_DIR=\"/usr/local/nvm\"\n",
      "declare -x OLDPWD\n",
      "declare -x OMPI_MCA_coll_hcoll_enable=\"0\"\n",
      "declare -x OPAL_PREFIX=\"/opt/hpcx/ompi\"\n",
      "declare -x OPENBLAS_VERSION=\"0.3.23\"\n",
      "declare -x OPENMPI_VERSION=\"4.1.5rc2\"\n",
      "declare -x OPENUCX_VERSION=\"1.15.0\"\n",
      "declare -x PAGER=\"cat\"\n",
      "declare -x PATH=\"/opt/conda/bin:/sbin:/usr/sbin:/bin:/usr/bin:/usr/local/bin\"\n",
      "declare -x PIP_DEFAULT_TIMEOUT=\"100\"\n",
      "declare -x POD_NAME=\"run-execution-ol1ch1j52ile-0\"\n",
      "declare -x POLYGRAPHY_VERSION=\"0.49.0\"\n",
      "declare -x PROTOCOL_BUFFERS_PYTHON_IMPLEMENTATION=\"python\"\n",
      "declare -x PWD=\"/root/finetune_hf\"\n",
      "declare -x PYDEVD_USE_FRAME_EVAL=\"NO\"\n",
      "declare -x PYTHONIOENCODING=\"utf-8\"\n",
      "declare -x PYTORCH_BUILD_NUMBER=\"0\"\n",
      "declare -x PYTORCH_BUILD_VERSION=\"2.1.0a0+32f93b1\"\n",
      "declare -x PYTORCH_HOME=\"/opt/pytorch/pytorch\"\n",
      "declare -x PYTORCH_VERSION=\"2.1.0a0+32f93b1\"\n",
      "declare -x RDMACORE_VERSION=\"39.0\"\n",
      "declare -x RUN_EXECUTION_OL1CH1J52ILE_RUN_EXECUTION_HTTP_PORT=\"tcp://10.162.218.82:8888\"\n",
      "declare -x RUN_EXECUTION_OL1CH1J52ILE_RUN_EXECUTION_HTTP_PORT_8888_TCP=\"tcp://10.162.218.82:8888\"\n",
      "declare -x RUN_EXECUTION_OL1CH1J52ILE_RUN_EXECUTION_HTTP_PORT_8888_TCP_ADDR=\"10.162.218.82\"\n",
      "declare -x RUN_EXECUTION_OL1CH1J52ILE_RUN_EXECUTION_HTTP_PORT_8888_TCP_PORT=\"8888\"\n",
      "declare -x RUN_EXECUTION_OL1CH1J52ILE_RUN_EXECUTION_HTTP_PORT_8888_TCP_PROTO=\"tcp\"\n",
      "declare -x RUN_EXECUTION_OL1CH1J52ILE_RUN_EXECUTION_HTTP_SERVICE_HOST=\"10.162.218.82\"\n",
      "declare -x RUN_EXECUTION_OL1CH1J52ILE_RUN_EXECUTION_HTTP_SERVICE_PORT=\"8888\"\n",
      "declare -x RUN_EXECUTION_OL1CH1J52ILE_RUN_EXECUTION_HTTP_SERVICE_PORT_JUPYTER=\"8888\"\n",
      "declare -x RUN_EXECUTION_OL1CH1J52ILE_RUN_EXECUTION_TCP_PORT=\"tcp://10.162.245.23:22\"\n",
      "declare -x RUN_EXECUTION_OL1CH1J52ILE_RUN_EXECUTION_TCP_PORT_22_TCP=\"tcp://10.162.245.23:22\"\n",
      "declare -x RUN_EXECUTION_OL1CH1J52ILE_RUN_EXECUTION_TCP_PORT_22_TCP_ADDR=\"10.162.245.23\"\n",
      "declare -x RUN_EXECUTION_OL1CH1J52ILE_RUN_EXECUTION_TCP_PORT_22_TCP_PORT=\"22\"\n",
      "declare -x RUN_EXECUTION_OL1CH1J52ILE_RUN_EXECUTION_TCP_PORT_22_TCP_PROTO=\"tcp\"\n",
      "declare -x RUN_EXECUTION_OL1CH1J52ILE_RUN_EXECUTION_TCP_SERVICE_HOST=\"10.162.245.23\"\n",
      "declare -x RUN_EXECUTION_OL1CH1J52ILE_RUN_EXECUTION_TCP_SERVICE_PORT=\"22\"\n",
      "declare -x RUN_EXECUTION_OL1CH1J52ILE_RUN_EXECUTION_TCP_SERVICE_PORT_SSH=\"22\"\n",
      "declare -x SAVVIHUB_API_HOST=\"https://api.vessl.ai\"\n",
      "declare -x SAVVIHUB_WEB_HOST=\"https://vessl.ai\"\n",
      "declare -x SETUPTOOLS_USE_DISTUTILS=\"stdlib\"\n",
      "declare -x SHELL=\"/bin/bash\"\n",
      "declare -x SHLVL=\"2\"\n",
      "declare -x STATUS_FILE_PATH=\"/opt/vessl/status\"\n",
      "declare -x TENSORBOARD_PORT=\"6006\"\n",
      "declare -x TERM=\"xterm-color\"\n",
      "declare -x TORCH_ALLOW_TF32_CUBLAS_OVERRIDE=\"1\"\n",
      "declare -x TORCH_CUDA_ARCH_LIST=\"5.2 6.0 6.1 7.0 7.2 7.5 8.0 8.6 8.7 9.0+PTX\"\n",
      "declare -x TORCH_CUDNN_V8_API_ENABLED=\"1\"\n",
      "declare -x TRANSFORMER_ENGINE_VERSION=\"0.12\"\n",
      "declare -x TRTOSS_VERSION=\"23.10\"\n",
      "declare -x TRT_VERSION=\"8.6.1.6+cuda12.0.1.011\"\n",
      "declare -x UCC_CL_BASIC_TLS=\"^sharp\"\n",
      "declare -x USE_EXPERIMENTAL_CUDNN_V8_API=\"1\"\n",
      "declare -x VESSL_API_HOST=\"https://api.vessl.ai\"\n",
      "declare -x VESSL_RUN_INITIAL_CONFIG=\"/opt/vessl/initial_config/config\"\n",
      "declare -x VESSL_WEB_HOST=\"https://vessl.ai\"\n",
      "declare -x VESSL_WORKLOAD_ID=\"137439225288\"\n",
      "declare -x WGET_DETECTED=\"true\"\n",
      "declare -x _CUDA_COMPAT_PATH=\"/usr/local/cuda/compat\"\n",
      "declare -x _CUDA_COMPAT_STATUS=\"CUDA Driver OK\"\n"
     ]
    }
   ],
   "source": [
    "!export"
   ]
  },
  {
   "cell_type": "code",
   "execution_count": null,
   "id": "8987f740",
   "metadata": {},
   "outputs": [],
   "source": []
  }
 ],
 "metadata": {
  "kernelspec": {
   "display_name": "Python 3 (ipykernel)",
   "language": "python",
   "name": "python3"
  },
  "language_info": {
   "codemirror_mode": {
    "name": "ipython",
    "version": 3
   },
   "file_extension": ".py",
   "mimetype": "text/x-python",
   "name": "python",
   "nbconvert_exporter": "python",
   "pygments_lexer": "ipython3",
   "version": "3.10.12"
  }
 },
 "nbformat": 4,
 "nbformat_minor": 5
}
