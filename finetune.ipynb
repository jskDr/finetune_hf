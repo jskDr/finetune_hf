{
 "cells": [
  {
   "cell_type": "code",
   "execution_count": null,
   "id": "9aa0e05f",
   "metadata": {},
   "outputs": [],
   "source": [
    "# "
   ]
  },
  {
   "cell_type": "code",
   "execution_count": 2,
   "id": "515617f2",
   "metadata": {},
   "outputs": [
    {
     "name": "stderr",
     "output_type": "stream",
     "text": [
      "/usr/local/lib/python3.10/dist-packages/tqdm/auto.py:21: TqdmWarning: IProgress not found. Please update jupyter and ipywidgets. See https://ipywidgets.readthedocs.io/en/stable/user_install.html\n",
      "  from .autonotebook import tqdm as notebook_tqdm\n",
      "Downloading readme: 100%|██████████| 10.1k/10.1k [00:00<00:00, 36.6MB/s]\n",
      "Downloading data: 100%|██████████| 1.57M/1.57M [00:01<00:00, 1.51MB/s]\n",
      "Downloading data: 100%|██████████| 162k/162k [00:00<00:00, 219kB/s]\n",
      "Downloading data: 100%|██████████| 99.8k/99.8k [00:00<00:00, 150kB/s]\n",
      "Generating train split: 100%|██████████| 23097/23097 [00:00<00:00, 744551.58 examples/s]\n",
      "Generating test split: 100%|██████████| 2126/2126 [00:00<00:00, 588237.37 examples/s]\n",
      "Generating validation split: 100%|██████████| 1304/1304 [00:00<00:00, 501317.36 examples/s]"
     ]
    },
    {
     "name": "stdout",
     "output_type": "stream",
     "text": [
      "{'premise': 'Pluto rotates once on its axis every 6.39 Earth days;', 'hypothesis': 'Earth rotates on its axis once times in one day.', 'label': 'neutral'}\n",
      "{'premise': 'An introduction to atoms and elements, compounds, atomic structure and bonding, the molecule and chemical reactions.', 'hypothesis': 'Replace another in a molecule happens to atoms during a substitution reaction.', 'label': 'neutral'}\n"
     ]
    },
    {
     "name": "stderr",
     "output_type": "stream",
     "text": [
      "\n"
     ]
    }
   ],
   "source": [
    "from datasets import load_dataset\n",
    "\n",
    "# Load the SciTail dataset\n",
    "scitail_dataset = load_dataset(\"scitail\", \"tsv_format\")\n",
    "\n",
    "# Accessing the train and validation sets\n",
    "train_set = scitail_dataset['train']\n",
    "validation_set = scitail_dataset['validation']\n",
    "\n",
    "# Print some examples to see the data\n",
    "print(train_set[0])\n",
    "print(validation_set[0])"
   ]
  },
  {
   "cell_type": "code",
   "execution_count": null,
   "id": "02c36337",
   "metadata": {},
   "outputs": [],
   "source": []
  }
 ],
 "metadata": {
  "kernelspec": {
   "display_name": "Python 3 (ipykernel)",
   "language": "python",
   "name": "python3"
  },
  "language_info": {
   "codemirror_mode": {
    "name": "ipython",
    "version": 3
   },
   "file_extension": ".py",
   "mimetype": "text/x-python",
   "name": "python",
   "nbconvert_exporter": "python",
   "pygments_lexer": "ipython3",
   "version": "3.10.12"
  }
 },
 "nbformat": 4,
 "nbformat_minor": 5
}
